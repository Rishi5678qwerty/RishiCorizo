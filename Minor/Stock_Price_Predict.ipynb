{
 "cells": [
  {
   "cell_type": "code",
   "execution_count": 2,
   "id": "f716f6d4",
   "metadata": {},
   "outputs": [],
   "source": [
    "import numpy as np\n",
    "import pandas as pd\n",
    "import matplotlib.pyplot as plt\n",
    "import seaborn as sns"
   ]
  },
  {
   "cell_type": "code",
   "execution_count": 3,
   "id": "c0d6c02e",
   "metadata": {},
   "outputs": [
    {
     "name": "stdout",
     "output_type": "stream",
     "text": [
      "<class 'pandas.core.frame.DataFrame'>\n",
      "Index: 1009 entries, 2018-02-05 to 2022-02-04\n",
      "Data columns (total 6 columns):\n",
      " #   Column     Non-Null Count  Dtype  \n",
      "---  ------     --------------  -----  \n",
      " 0   Open       1009 non-null   float64\n",
      " 1   High       1009 non-null   float64\n",
      " 2   Low        1009 non-null   float64\n",
      " 3   Close      1009 non-null   float64\n",
      " 4   Adj Close  1009 non-null   float64\n",
      " 5   Volume     1009 non-null   int64  \n",
      "dtypes: float64(5), int64(1)\n",
      "memory usage: 55.2+ KB\n"
     ]
    },
    {
     "data": {
      "text/html": [
       "<div>\n",
       "<style scoped>\n",
       "    .dataframe tbody tr th:only-of-type {\n",
       "        vertical-align: middle;\n",
       "    }\n",
       "\n",
       "    .dataframe tbody tr th {\n",
       "        vertical-align: top;\n",
       "    }\n",
       "\n",
       "    .dataframe thead th {\n",
       "        text-align: right;\n",
       "    }\n",
       "</style>\n",
       "<table border=\"1\" class=\"dataframe\">\n",
       "  <thead>\n",
       "    <tr style=\"text-align: right;\">\n",
       "      <th></th>\n",
       "      <th>Open</th>\n",
       "      <th>High</th>\n",
       "      <th>Low</th>\n",
       "      <th>Close</th>\n",
       "      <th>Adj Close</th>\n",
       "      <th>Volume</th>\n",
       "    </tr>\n",
       "    <tr>\n",
       "      <th>Date</th>\n",
       "      <th></th>\n",
       "      <th></th>\n",
       "      <th></th>\n",
       "      <th></th>\n",
       "      <th></th>\n",
       "      <th></th>\n",
       "    </tr>\n",
       "  </thead>\n",
       "  <tbody>\n",
       "    <tr>\n",
       "      <th>2018-02-05</th>\n",
       "      <td>262.000000</td>\n",
       "      <td>267.899994</td>\n",
       "      <td>250.029999</td>\n",
       "      <td>254.259995</td>\n",
       "      <td>254.259995</td>\n",
       "      <td>11896100</td>\n",
       "    </tr>\n",
       "    <tr>\n",
       "      <th>2018-02-06</th>\n",
       "      <td>247.699997</td>\n",
       "      <td>266.700012</td>\n",
       "      <td>245.000000</td>\n",
       "      <td>265.720001</td>\n",
       "      <td>265.720001</td>\n",
       "      <td>12595800</td>\n",
       "    </tr>\n",
       "    <tr>\n",
       "      <th>2018-02-07</th>\n",
       "      <td>266.579987</td>\n",
       "      <td>272.450012</td>\n",
       "      <td>264.329987</td>\n",
       "      <td>264.559998</td>\n",
       "      <td>264.559998</td>\n",
       "      <td>8981500</td>\n",
       "    </tr>\n",
       "    <tr>\n",
       "      <th>2018-02-08</th>\n",
       "      <td>267.079987</td>\n",
       "      <td>267.619995</td>\n",
       "      <td>250.000000</td>\n",
       "      <td>250.100006</td>\n",
       "      <td>250.100006</td>\n",
       "      <td>9306700</td>\n",
       "    </tr>\n",
       "    <tr>\n",
       "      <th>2018-02-09</th>\n",
       "      <td>253.850006</td>\n",
       "      <td>255.800003</td>\n",
       "      <td>236.110001</td>\n",
       "      <td>249.470001</td>\n",
       "      <td>249.470001</td>\n",
       "      <td>16906900</td>\n",
       "    </tr>\n",
       "  </tbody>\n",
       "</table>\n",
       "</div>"
      ],
      "text/plain": [
       "                  Open        High         Low       Close   Adj Close  \\\n",
       "Date                                                                     \n",
       "2018-02-05  262.000000  267.899994  250.029999  254.259995  254.259995   \n",
       "2018-02-06  247.699997  266.700012  245.000000  265.720001  265.720001   \n",
       "2018-02-07  266.579987  272.450012  264.329987  264.559998  264.559998   \n",
       "2018-02-08  267.079987  267.619995  250.000000  250.100006  250.100006   \n",
       "2018-02-09  253.850006  255.800003  236.110001  249.470001  249.470001   \n",
       "\n",
       "              Volume  \n",
       "Date                  \n",
       "2018-02-05  11896100  \n",
       "2018-02-06  12595800  \n",
       "2018-02-07   8981500  \n",
       "2018-02-08   9306700  \n",
       "2018-02-09  16906900  "
      ]
     },
     "execution_count": 3,
     "metadata": {},
     "output_type": "execute_result"
    }
   ],
   "source": [
    "df = pd.read_csv('stockp.csv',index_col=0)\n",
    "df.info()\n",
    "df.head()"
   ]
  },
  {
   "cell_type": "code",
   "execution_count": 4,
   "id": "fc0d3c5c",
   "metadata": {},
   "outputs": [],
   "source": [
    "df = df.drop('Adj Close',axis=1)"
   ]
  },
  {
   "cell_type": "code",
   "execution_count": 5,
   "id": "27733c84",
   "metadata": {},
   "outputs": [
    {
     "data": {
      "text/plain": [
       "Open      0\n",
       "High      0\n",
       "Low       0\n",
       "Close     0\n",
       "Volume    0\n",
       "dtype: int64"
      ]
     },
     "execution_count": 5,
     "metadata": {},
     "output_type": "execute_result"
    }
   ],
   "source": [
    "df.isnull().sum()"
   ]
  },
  {
   "cell_type": "code",
   "execution_count": 6,
   "id": "78eda004",
   "metadata": {},
   "outputs": [
    {
     "data": {
      "text/html": [
       "<div>\n",
       "<style scoped>\n",
       "    .dataframe tbody tr th:only-of-type {\n",
       "        vertical-align: middle;\n",
       "    }\n",
       "\n",
       "    .dataframe tbody tr th {\n",
       "        vertical-align: top;\n",
       "    }\n",
       "\n",
       "    .dataframe thead th {\n",
       "        text-align: right;\n",
       "    }\n",
       "</style>\n",
       "<table border=\"1\" class=\"dataframe\">\n",
       "  <thead>\n",
       "    <tr style=\"text-align: right;\">\n",
       "      <th></th>\n",
       "      <th>Open</th>\n",
       "      <th>High</th>\n",
       "      <th>Low</th>\n",
       "      <th>Close</th>\n",
       "      <th>Volume</th>\n",
       "    </tr>\n",
       "  </thead>\n",
       "  <tbody>\n",
       "    <tr>\n",
       "      <th>Open</th>\n",
       "      <td>1.000000</td>\n",
       "      <td>0.998605</td>\n",
       "      <td>0.998508</td>\n",
       "      <td>0.996812</td>\n",
       "      <td>-0.415838</td>\n",
       "    </tr>\n",
       "    <tr>\n",
       "      <th>High</th>\n",
       "      <td>0.998605</td>\n",
       "      <td>1.000000</td>\n",
       "      <td>0.998203</td>\n",
       "      <td>0.998551</td>\n",
       "      <td>-0.400699</td>\n",
       "    </tr>\n",
       "    <tr>\n",
       "      <th>Low</th>\n",
       "      <td>0.998508</td>\n",
       "      <td>0.998203</td>\n",
       "      <td>1.000000</td>\n",
       "      <td>0.998544</td>\n",
       "      <td>-0.432116</td>\n",
       "    </tr>\n",
       "    <tr>\n",
       "      <th>Close</th>\n",
       "      <td>0.996812</td>\n",
       "      <td>0.998551</td>\n",
       "      <td>0.998544</td>\n",
       "      <td>1.000000</td>\n",
       "      <td>-0.413362</td>\n",
       "    </tr>\n",
       "    <tr>\n",
       "      <th>Volume</th>\n",
       "      <td>-0.415838</td>\n",
       "      <td>-0.400699</td>\n",
       "      <td>-0.432116</td>\n",
       "      <td>-0.413362</td>\n",
       "      <td>1.000000</td>\n",
       "    </tr>\n",
       "  </tbody>\n",
       "</table>\n",
       "</div>"
      ],
      "text/plain": [
       "            Open      High       Low     Close    Volume\n",
       "Open    1.000000  0.998605  0.998508  0.996812 -0.415838\n",
       "High    0.998605  1.000000  0.998203  0.998551 -0.400699\n",
       "Low     0.998508  0.998203  1.000000  0.998544 -0.432116\n",
       "Close   0.996812  0.998551  0.998544  1.000000 -0.413362\n",
       "Volume -0.415838 -0.400699 -0.432116 -0.413362  1.000000"
      ]
     },
     "execution_count": 6,
     "metadata": {},
     "output_type": "execute_result"
    }
   ],
   "source": [
    "df.corr()"
   ]
  },
  {
   "cell_type": "code",
   "execution_count": 7,
   "id": "d36d1d81",
   "metadata": {},
   "outputs": [
    {
     "data": {
      "text/html": [
       "<div>\n",
       "<style scoped>\n",
       "    .dataframe tbody tr th:only-of-type {\n",
       "        vertical-align: middle;\n",
       "    }\n",
       "\n",
       "    .dataframe tbody tr th {\n",
       "        vertical-align: top;\n",
       "    }\n",
       "\n",
       "    .dataframe thead th {\n",
       "        text-align: right;\n",
       "    }\n",
       "</style>\n",
       "<table border=\"1\" class=\"dataframe\">\n",
       "  <thead>\n",
       "    <tr style=\"text-align: right;\">\n",
       "      <th></th>\n",
       "      <th>Open</th>\n",
       "      <th>High</th>\n",
       "      <th>Low</th>\n",
       "    </tr>\n",
       "  </thead>\n",
       "  <tbody>\n",
       "    <tr>\n",
       "      <th>0</th>\n",
       "      <td>0.061253</td>\n",
       "      <td>0.038304</td>\n",
       "      <td>0.041331</td>\n",
       "    </tr>\n",
       "    <tr>\n",
       "      <th>1</th>\n",
       "      <td>0.030059</td>\n",
       "      <td>0.035640</td>\n",
       "      <td>0.030273</td>\n",
       "    </tr>\n",
       "    <tr>\n",
       "      <th>2</th>\n",
       "      <td>0.071243</td>\n",
       "      <td>0.048408</td>\n",
       "      <td>0.072770</td>\n",
       "    </tr>\n",
       "    <tr>\n",
       "      <th>3</th>\n",
       "      <td>0.072334</td>\n",
       "      <td>0.037683</td>\n",
       "      <td>0.041265</td>\n",
       "    </tr>\n",
       "    <tr>\n",
       "      <th>4</th>\n",
       "      <td>0.043474</td>\n",
       "      <td>0.011436</td>\n",
       "      <td>0.010729</td>\n",
       "    </tr>\n",
       "  </tbody>\n",
       "</table>\n",
       "</div>"
      ],
      "text/plain": [
       "       Open      High       Low\n",
       "0  0.061253  0.038304  0.041331\n",
       "1  0.030059  0.035640  0.030273\n",
       "2  0.071243  0.048408  0.072770\n",
       "3  0.072334  0.037683  0.041265\n",
       "4  0.043474  0.011436  0.010729"
      ]
     },
     "execution_count": 7,
     "metadata": {},
     "output_type": "execute_result"
    }
   ],
   "source": [
    "df = df.drop('Volume',axis = 1)\n",
    "X = df.drop('Close',axis=1)\n",
    "y = df.Close\n",
    "y = y.reset_index(drop=True)\n",
    "from sklearn.preprocessing import MinMaxScaler\n",
    "scaler = MinMaxScaler()\n",
    "X = pd.DataFrame(scaler.fit_transform(X),columns = X.columns)\n",
    "X.head()"
   ]
  },
  {
   "cell_type": "markdown",
   "id": "99bc4832",
   "metadata": {},
   "source": [
    "### Model Prediction"
   ]
  },
  {
   "cell_type": "markdown",
   "id": "fd4620a9",
   "metadata": {},
   "source": [
    "## Linear Regression"
   ]
  },
  {
   "cell_type": "code",
   "execution_count": 8,
   "id": "62655b22",
   "metadata": {},
   "outputs": [],
   "source": [
    "from sklearn.model_selection import train_test_split\n",
    "X_train, X_test, y_train, y_test = train_test_split(X, y, test_size = 0.2, shuffle=False)\n",
    "Acc = [] #stores accuracy of different models"
   ]
  },
  {
   "cell_type": "code",
   "execution_count": 9,
   "id": "2e304d38",
   "metadata": {},
   "outputs": [
    {
     "data": {
      "text/plain": [
       "LinearRegression()"
      ]
     },
     "execution_count": 9,
     "metadata": {},
     "output_type": "execute_result"
    }
   ],
   "source": [
    "from sklearn.linear_model import LinearRegression\n",
    "m1 = LinearRegression()\n",
    "m1.fit(X_train,y_train)"
   ]
  },
  {
   "cell_type": "code",
   "execution_count": 10,
   "id": "96df8ae7",
   "metadata": {},
   "outputs": [
    {
     "name": "stdout",
     "output_type": "stream",
     "text": [
      "Accuracy score of the predictions:  0.9964435821064205\n"
     ]
    }
   ],
   "source": [
    "yPred_1 = m1.predict(X_test)\n",
    "from sklearn.metrics import r2_score\n",
    "sc = r2_score(y_test, yPred_1)\n",
    "print(\"Accuracy score of the predictions: \",sc)\n",
    "Acc.append(sc)"
   ]
  },
  {
   "cell_type": "markdown",
   "id": "ef42d5e9",
   "metadata": {},
   "source": [
    "## ANN"
   ]
  },
  {
   "cell_type": "code",
   "execution_count": 11,
   "id": "b38b2f7b",
   "metadata": {},
   "outputs": [],
   "source": [
    "from keras.models import Sequential\n",
    "from keras.layers import Dense\n",
    "\n",
    "def regre(dime):\n",
    "    model = Sequential()\n",
    "    model.add(Dense(20,input_dim = dime, kernel_initializer='normal',activation='relu'))\n",
    "    model.add(Dense(25, kernel_initializer='normal',activation='relu'))\n",
    "    model.add(Dense(10, kernel_initializer='normal',activation='relu'))\n",
    "    model.add(Dense(1, kernel_initializer='normal'))\n",
    "    model.compile(loss='mean_squared_error',optimizer='adam')\n",
    "    return model"
   ]
  },
  {
   "cell_type": "code",
   "execution_count": 12,
   "id": "98898ea6",
   "metadata": {},
   "outputs": [
    {
     "name": "stdout",
     "output_type": "stream",
     "text": [
      "Epoch 1/80\n",
      "21/21 [==============================] - 3s 35ms/step - loss: 126442.7266 - val_loss: 268993.0938\n",
      "Epoch 2/80\n",
      "21/21 [==============================] - 0s 10ms/step - loss: 126412.4062 - val_loss: 268917.9375\n",
      "Epoch 3/80\n",
      "21/21 [==============================] - 0s 17ms/step - loss: 126345.4375 - val_loss: 268711.0312\n",
      "Epoch 4/80\n",
      "21/21 [==============================] - 0s 5ms/step - loss: 126176.8281 - val_loss: 268167.1562\n",
      "Epoch 5/80\n",
      "21/21 [==============================] - 0s 7ms/step - loss: 125783.4297 - val_loss: 266919.8125\n",
      "Epoch 6/80\n",
      "21/21 [==============================] - 0s 6ms/step - loss: 124964.7109 - val_loss: 264397.4375\n",
      "Epoch 7/80\n",
      "21/21 [==============================] - 0s 5ms/step - loss: 123417.2031 - val_loss: 259835.4531\n",
      "Epoch 8/80\n",
      "21/21 [==============================] - 0s 6ms/step - loss: 120808.5859 - val_loss: 252298.1719\n",
      "Epoch 9/80\n",
      "21/21 [==============================] - 0s 5ms/step - loss: 116653.2578 - val_loss: 240815.8594\n",
      "Epoch 10/80\n",
      "21/21 [==============================] - 0s 7ms/step - loss: 110550.3281 - val_loss: 224337.2031\n",
      "Epoch 11/80\n",
      "21/21 [==============================] - 0s 7ms/step - loss: 102117.8516 - val_loss: 202201.2812\n",
      "Epoch 12/80\n",
      "21/21 [==============================] - 0s 5ms/step - loss: 91091.6562 - val_loss: 174217.3438\n",
      "Epoch 13/80\n",
      "21/21 [==============================] - 0s 6ms/step - loss: 77628.5625 - val_loss: 141553.2656\n",
      "Epoch 14/80\n",
      "21/21 [==============================] - 0s 7ms/step - loss: 62376.8125 - val_loss: 106138.3828\n",
      "Epoch 15/80\n",
      "21/21 [==============================] - 0s 5ms/step - loss: 46241.2188 - val_loss: 71541.2891\n",
      "Epoch 16/80\n",
      "21/21 [==============================] - 0s 5ms/step - loss: 30936.2070 - val_loss: 41149.2109\n",
      "Epoch 17/80\n",
      "21/21 [==============================] - 0s 5ms/step - loss: 18132.8789 - val_loss: 18575.9316\n",
      "Epoch 18/80\n",
      "21/21 [==============================] - 0s 4ms/step - loss: 8886.9043 - val_loss: 5874.7329\n",
      "Epoch 19/80\n",
      "21/21 [==============================] - 0s 4ms/step - loss: 3598.1741 - val_loss: 883.4011\n",
      "Epoch 20/80\n",
      "21/21 [==============================] - 0s 5ms/step - loss: 1234.4706 - val_loss: 84.2453\n",
      "Epoch 21/80\n",
      "21/21 [==============================] - 0s 6ms/step - loss: 443.7933 - val_loss: 593.5524\n",
      "Epoch 22/80\n",
      "21/21 [==============================] - 0s 5ms/step - loss: 250.0513 - val_loss: 1052.0549\n",
      "Epoch 23/80\n",
      "21/21 [==============================] - 0s 5ms/step - loss: 217.3246 - val_loss: 1280.8918\n",
      "Epoch 24/80\n",
      "21/21 [==============================] - 0s 5ms/step - loss: 209.1998 - val_loss: 1279.5388\n",
      "Epoch 25/80\n",
      "21/21 [==============================] - 0s 5ms/step - loss: 205.1184 - val_loss: 1305.0234\n",
      "Epoch 26/80\n",
      "21/21 [==============================] - 0s 5ms/step - loss: 201.4944 - val_loss: 1260.7095\n",
      "Epoch 27/80\n",
      "21/21 [==============================] - 0s 7ms/step - loss: 197.6035 - val_loss: 1239.5219\n",
      "Epoch 28/80\n",
      "21/21 [==============================] - 0s 7ms/step - loss: 193.8242 - val_loss: 1205.8459\n",
      "Epoch 29/80\n",
      "21/21 [==============================] - 0s 6ms/step - loss: 190.3041 - val_loss: 1190.0895\n",
      "Epoch 30/80\n",
      "21/21 [==============================] - 0s 11ms/step - loss: 186.6916 - val_loss: 1180.1799\n",
      "Epoch 31/80\n",
      "21/21 [==============================] - 0s 5ms/step - loss: 183.2899 - val_loss: 1109.8339\n",
      "Epoch 32/80\n",
      "21/21 [==============================] - 0s 5ms/step - loss: 179.3924 - val_loss: 1123.6381\n",
      "Epoch 33/80\n",
      "21/21 [==============================] - 0s 5ms/step - loss: 175.7798 - val_loss: 1113.3978\n",
      "Epoch 34/80\n",
      "21/21 [==============================] - 0s 6ms/step - loss: 172.6711 - val_loss: 1057.1295\n",
      "Epoch 35/80\n",
      "21/21 [==============================] - 0s 10ms/step - loss: 168.2677 - val_loss: 1060.5284\n",
      "Epoch 36/80\n",
      "21/21 [==============================] - 0s 7ms/step - loss: 164.8375 - val_loss: 1034.4572\n",
      "Epoch 37/80\n",
      "21/21 [==============================] - 0s 5ms/step - loss: 161.1635 - val_loss: 987.5783\n",
      "Epoch 38/80\n",
      "21/21 [==============================] - 0s 7ms/step - loss: 157.5343 - val_loss: 973.2490\n",
      "Epoch 39/80\n",
      "21/21 [==============================] - 0s 5ms/step - loss: 154.0242 - val_loss: 937.6157\n",
      "Epoch 40/80\n",
      "21/21 [==============================] - 0s 7ms/step - loss: 150.3381 - val_loss: 915.5009\n",
      "Epoch 41/80\n",
      "21/21 [==============================] - 0s 7ms/step - loss: 146.8993 - val_loss: 902.7944\n",
      "Epoch 42/80\n",
      "21/21 [==============================] - 0s 5ms/step - loss: 143.5154 - val_loss: 866.3078\n",
      "Epoch 43/80\n",
      "21/21 [==============================] - 0s 7ms/step - loss: 140.2706 - val_loss: 808.5065\n",
      "Epoch 44/80\n",
      "21/21 [==============================] - 0s 5ms/step - loss: 136.8685 - val_loss: 819.4102\n",
      "Epoch 45/80\n",
      "21/21 [==============================] - 0s 5ms/step - loss: 133.5118 - val_loss: 793.7714\n",
      "Epoch 46/80\n",
      "21/21 [==============================] - 0s 6ms/step - loss: 130.4258 - val_loss: 777.9233\n",
      "Epoch 47/80\n",
      "21/21 [==============================] - 0s 6ms/step - loss: 127.1680 - val_loss: 734.0638\n",
      "Epoch 48/80\n",
      "21/21 [==============================] - 0s 5ms/step - loss: 124.0224 - val_loss: 732.8788\n",
      "Epoch 49/80\n",
      "21/21 [==============================] - 0s 6ms/step - loss: 120.9607 - val_loss: 712.1140\n",
      "Epoch 50/80\n",
      "21/21 [==============================] - 0s 4ms/step - loss: 117.9486 - val_loss: 691.2404\n",
      "Epoch 51/80\n",
      "21/21 [==============================] - 0s 5ms/step - loss: 114.9995 - val_loss: 650.5345\n",
      "Epoch 52/80\n",
      "21/21 [==============================] - 0s 6ms/step - loss: 112.2407 - val_loss: 628.3021\n",
      "Epoch 53/80\n",
      "21/21 [==============================] - 0s 6ms/step - loss: 109.2733 - val_loss: 618.4218\n",
      "Epoch 54/80\n",
      "21/21 [==============================] - 0s 12ms/step - loss: 106.4333 - val_loss: 611.7733\n",
      "Epoch 55/80\n",
      "21/21 [==============================] - 0s 19ms/step - loss: 103.8904 - val_loss: 570.9771\n",
      "Epoch 56/80\n",
      "21/21 [==============================] - 0s 7ms/step - loss: 100.9517 - val_loss: 569.5132\n",
      "Epoch 57/80\n",
      "21/21 [==============================] - 0s 6ms/step - loss: 98.4602 - val_loss: 555.1508\n",
      "Epoch 58/80\n",
      "21/21 [==============================] - 0s 6ms/step - loss: 96.1189 - val_loss: 519.1718\n",
      "Epoch 59/80\n",
      "21/21 [==============================] - 0s 6ms/step - loss: 93.5550 - val_loss: 529.3594\n",
      "Epoch 60/80\n",
      "21/21 [==============================] - 0s 5ms/step - loss: 91.0594 - val_loss: 493.4657\n",
      "Epoch 61/80\n",
      "21/21 [==============================] - 0s 5ms/step - loss: 88.8849 - val_loss: 469.0401\n",
      "Epoch 62/80\n",
      "21/21 [==============================] - 0s 5ms/step - loss: 86.4864 - val_loss: 470.2740\n",
      "Epoch 63/80\n",
      "21/21 [==============================] - 0s 5ms/step - loss: 84.2526 - val_loss: 457.8792\n",
      "Epoch 64/80\n",
      "21/21 [==============================] - 0s 6ms/step - loss: 82.0940 - val_loss: 427.8380\n",
      "Epoch 65/80\n",
      "21/21 [==============================] - 0s 5ms/step - loss: 79.8535 - val_loss: 418.2546\n",
      "Epoch 66/80\n",
      "21/21 [==============================] - 0s 5ms/step - loss: 77.9267 - val_loss: 406.3366\n",
      "Epoch 67/80\n",
      "21/21 [==============================] - 0s 5ms/step - loss: 75.9210 - val_loss: 394.6127\n",
      "Epoch 68/80\n",
      "21/21 [==============================] - 0s 7ms/step - loss: 73.9529 - val_loss: 367.1272\n",
      "Epoch 69/80\n",
      "21/21 [==============================] - 0s 4ms/step - loss: 72.0607 - val_loss: 363.2316\n",
      "Epoch 70/80\n",
      "21/21 [==============================] - 0s 5ms/step - loss: 70.2596 - val_loss: 341.9544\n",
      "Epoch 71/80\n",
      "21/21 [==============================] - 0s 4ms/step - loss: 68.5392 - val_loss: 336.9112\n",
      "Epoch 72/80\n",
      "21/21 [==============================] - 0s 6ms/step - loss: 66.7572 - val_loss: 319.2554\n",
      "Epoch 73/80\n",
      "21/21 [==============================] - 0s 6ms/step - loss: 65.1877 - val_loss: 296.1240\n",
      "Epoch 74/80\n",
      "21/21 [==============================] - 0s 5ms/step - loss: 63.5168 - val_loss: 294.1805\n",
      "Epoch 75/80\n",
      "21/21 [==============================] - 0s 5ms/step - loss: 62.0085 - val_loss: 291.3244\n",
      "Epoch 76/80\n",
      "21/21 [==============================] - 0s 4ms/step - loss: 60.6707 - val_loss: 277.9746\n",
      "Epoch 77/80\n",
      "21/21 [==============================] - 0s 5ms/step - loss: 59.1243 - val_loss: 258.8777\n",
      "Epoch 78/80\n",
      "21/21 [==============================] - 0s 6ms/step - loss: 57.7240 - val_loss: 246.9143\n",
      "Epoch 79/80\n"
     ]
    },
    {
     "name": "stdout",
     "output_type": "stream",
     "text": [
      "21/21 [==============================] - 0s 5ms/step - loss: 56.4145 - val_loss: 246.6111\n",
      "Epoch 80/80\n",
      "21/21 [==============================] - 0s 5ms/step - loss: 55.1811 - val_loss: 231.2588\n"
     ]
    },
    {
     "data": {
      "text/plain": [
       "<keras.callbacks.History at 0x1baab10ea00>"
      ]
     },
     "execution_count": 12,
     "metadata": {},
     "output_type": "execute_result"
    }
   ],
   "source": [
    "m2 = regre(3)\n",
    "m2.fit(X_train,y_train,epochs=80,validation_split=0.2)"
   ]
  },
  {
   "cell_type": "code",
   "execution_count": 13,
   "id": "1a7614ef",
   "metadata": {},
   "outputs": [
    {
     "name": "stdout",
     "output_type": "stream",
     "text": [
      "7/7 [==============================] - 0s 2ms/step\n",
      "Accuracy score of the predictions:  0.9309553934942106\n"
     ]
    }
   ],
   "source": [
    "y_pred_2 = m2.predict(X_test)\n",
    "s = (r2_score(y_test, y_pred_2))\n",
    "print(\"Accuracy score of the predictions: \",s)\n",
    "Acc.append(s)"
   ]
  },
  {
   "cell_type": "code",
   "execution_count": 17,
   "id": "ebe2f34d",
   "metadata": {},
   "outputs": [
    {
     "name": "stdout",
     "output_type": "stream",
     "text": [
      "Accuracy in Linear Regression Model is :  0.9964435821064205 and in ANN Model is:  0.9309553934942106\n"
     ]
    }
   ],
   "source": [
    "print(\"Accuracy in Linear Regression Model is : \",Acc[0])\n",
    "print(\"Accuracy in and in ANN Model is: \",Acc[1]\")"
   ]
  },
  {
   "cell_type": "code",
   "execution_count": null,
   "id": "5408e9b5",
   "metadata": {},
   "outputs": [],
   "source": []
  }
 ],
 "metadata": {
  "kernelspec": {
   "display_name": "Python 3 (ipykernel)",
   "language": "python",
   "name": "python3"
  },
  "language_info": {
   "codemirror_mode": {
    "name": "ipython",
    "version": 3
   },
   "file_extension": ".py",
   "mimetype": "text/x-python",
   "name": "python",
   "nbconvert_exporter": "python",
   "pygments_lexer": "ipython3",
   "version": "3.9.7"
  }
 },
 "nbformat": 4,
 "nbformat_minor": 5
}
